{
 "cells": [
  {
   "cell_type": "markdown",
   "id": "d12540d1",
   "metadata": {},
   "source": [
    "## Python. Домашнее задание 4. Функции"
   ]
  },
  {
   "cell_type": "markdown",
   "id": "204fc8cc",
   "metadata": {},
   "source": [
    "> Описать поведение бота, который будет играть с такими же ботами в игру «камень-ножницы-бумага». Поведение бота описывается с помощью функции, которая принимает на вход информацию о прошлых играх.\n",
    "\n",
    "> Обозначения для ходов:\n",
    "> - `0` - камень\n",
    "> - `1` - бумага\n",
    "> - `2` - ножницы"
   ]
  },
  {
   "cell_type": "markdown",
   "id": "57b2dd05",
   "metadata": {},
   "source": [
    "### Подготовка окружения"
   ]
  },
  {
   "cell_type": "code",
   "execution_count": 2,
   "id": "41827580",
   "metadata": {},
   "outputs": [
    {
     "name": "stderr",
     "output_type": "stream",
     "text": [
      "C:\\Users\\macsunmood\\Anaconda3\\lib\\site-packages\\transformers\\utils\\generic.py:441: UserWarning: torch.utils._pytree._register_pytree_node is deprecated. Please use torch.utils._pytree.register_pytree_node instead.\n",
      "  _torch_pytree._register_pytree_node(\n",
      "C:\\Users\\macsunmood\\Anaconda3\\lib\\site-packages\\transformers\\utils\\generic.py:309: UserWarning: torch.utils._pytree._register_pytree_node is deprecated. Please use torch.utils._pytree.register_pytree_node instead.\n",
      "  _torch_pytree._register_pytree_node(\n"
     ]
    },
    {
     "name": "stdout",
     "output_type": "stream",
     "text": [
      "Loading environment lux_ai_s3 failed: No module named 'gymnax'\n"
     ]
    }
   ],
   "source": [
    "# Подключаем нужные библиотеки\n",
    "import numpy as np\n",
    "import pandas as pd\n",
    "import random\n",
    "import math\n",
    "\n",
    "import matplotlib.pyplot as plt\n",
    "import seaborn as sns\n",
    "\n",
    "# Функции для создания агентов и их оценивания\n",
    "from kaggle_environments import make, evaluate\n",
    "\n",
    "import collections\n",
    "import warnings\n",
    "\n",
    "warnings.filterwarnings('ignore')"
   ]
  },
  {
   "cell_type": "code",
   "execution_count": null,
   "id": "aad51f96",
   "metadata": {},
   "outputs": [],
   "source": []
  },
  {
   "cell_type": "markdown",
   "id": "6b275f8c",
   "metadata": {},
   "source": [
    "### Крафтинг агентов\n",
    "Создаём различных агентов и определяем их стратегии"
   ]
  },
  {
   "cell_type": "code",
   "execution_count": 3,
   "id": "00af94b3",
   "metadata": {},
   "outputs": [
    {
     "name": "stdout",
     "output_type": "stream",
     "text": [
      "Overwriting agent_always_rock.py\n"
     ]
    }
   ],
   "source": [
    "%%writefile agent_always_rock.py\n",
    "# 1. Агент, который всегда выбирает \"камень\"\n",
    "\n",
    "def agent_always_rock(observation, configuration):\n",
    "    '''\n",
    "    Агент, который всегда выбирает 'камень' (0).\n",
    "    '''\n",
    "    return 0"
   ]
  },
  {
   "cell_type": "code",
   "execution_count": 4,
   "id": "41a63b84",
   "metadata": {},
   "outputs": [
    {
     "name": "stdout",
     "output_type": "stream",
     "text": [
      "Overwriting agent_always_paper.py\n"
     ]
    }
   ],
   "source": [
    "%%writefile agent_always_paper.py\n",
    "# 2. Агент, который всегда выбирает \"бумагу\"\n",
    "\n",
    "def agent_always_paper(observation, configuration):\n",
    "    '''\n",
    "    Агент, который всегда выбирает 'бумагу' (1).\n",
    "    '''\n",
    "    return 1"
   ]
  },
  {
   "cell_type": "code",
   "execution_count": 5,
   "id": "61c1a0d2",
   "metadata": {},
   "outputs": [
    {
     "name": "stdout",
     "output_type": "stream",
     "text": [
      "Overwriting agent_always_scissors.py\n"
     ]
    }
   ],
   "source": [
    "%%writefile agent_always_scissors.py\n",
    "# 3. Агент, который всегда выбирает \"ножницы\"\n",
    "\n",
    "def agent_always_scissors(observation, configuration):\n",
    "    '''\n",
    "    Агент, который всегда выбирает 'ножницы' (2).\n",
    "    '''\n",
    "    return 2"
   ]
  },
  {
   "cell_type": "code",
   "execution_count": 6,
   "id": "7096554d",
   "metadata": {},
   "outputs": [
    {
     "name": "stdout",
     "output_type": "stream",
     "text": [
      "Overwriting agent_rock_paper.py\n"
     ]
    }
   ],
   "source": [
    "%%writefile agent_rock_paper.py\n",
    "# 4. Агент, который случайно выбирает между \"камнем\" и \"бумагой\"\n",
    "\n",
    "import random\n",
    "\n",
    "\n",
    "def agent_rock_paper(observation, configuration):\n",
    "    '''\n",
    "    Случайно выбирает между 'камнем' (0) и 'бумагой' (1).\n",
    "    '''\n",
    "    return random.randint(0, 1)"
   ]
  },
  {
   "cell_type": "code",
   "execution_count": 7,
   "id": "0ae10cb6",
   "metadata": {},
   "outputs": [
    {
     "name": "stdout",
     "output_type": "stream",
     "text": [
      "Overwriting agent_paper_scissors.py\n"
     ]
    }
   ],
   "source": [
    "%%writefile agent_paper_scissors.py\n",
    "# 5. Агент, который случайно выбирает между \"бумагой\" и \"ножницами\"\n",
    "\n",
    "import random\n",
    "\n",
    "\n",
    "def agent_paper_scissors(observation, configuration):\n",
    "    '''\n",
    "    Случайно выбирает между 'бумагой' (1) и 'ножницами' (2).\n",
    "    '''\n",
    "    return random.randint(1, 2)"
   ]
  },
  {
   "cell_type": "code",
   "execution_count": 8,
   "id": "45c41933",
   "metadata": {},
   "outputs": [
    {
     "name": "stdout",
     "output_type": "stream",
     "text": [
      "Overwriting agent_nash_equilibrium.py\n"
     ]
    }
   ],
   "source": [
    "%%writefile agent_nash_equilibrium.py\n",
    "# 6. Агент по принципу равновесия Нэша (случайный выбор)\n",
    "\n",
    "import random\n",
    "\n",
    "\n",
    "def agent_nash_equilibrium(observation, configuration):\n",
    "    '''\n",
    "    Случайный выбор действия для достижения равновесия Нэша.\n",
    "    '''\n",
    "    return random.randint(0, 2)"
   ]
  },
  {
   "cell_type": "code",
   "execution_count": null,
   "id": "b7ebaab7",
   "metadata": {},
   "outputs": [],
   "source": []
  },
  {
   "cell_type": "code",
   "execution_count": 9,
   "id": "b6c76f36",
   "metadata": {},
   "outputs": [
    {
     "name": "stdout",
     "output_type": "stream",
     "text": [
      "Overwriting agent_copy_opponent.py\n"
     ]
    }
   ],
   "source": [
    "%%writefile agent_copy_opponent.py\n",
    "# 7. Агент, который копирует последний ход оппонента\n",
    "\n",
    "import random\n",
    "\n",
    "\n",
    "def agent_copy_opponent(observation, configuration):\n",
    "    '''\n",
    "    Копирует последний ход противника. Если ход первый, выбирает случайно.\n",
    "    '''\n",
    "    if observation.step == 0:\n",
    "        return random.randint(0, 2)  # первый ход случайный\n",
    "    return observation.lastOpponentAction  # копирует предыдущий ход противника"
   ]
  },
  {
   "cell_type": "code",
   "execution_count": 10,
   "id": "f0c66daa",
   "metadata": {},
   "outputs": [
    {
     "name": "stdout",
     "output_type": "stream",
     "text": [
      "Overwriting agent_naive_predict.py\n"
     ]
    }
   ],
   "source": [
    "%%writefile agent_naive_predict.py\n",
    "# 8. Агент, наивно предсказывающий ход соперника\n",
    "\n",
    "import random\n",
    "\n",
    "\n",
    "def agent_naive_predict(observation, configuration):\n",
    "    '''\n",
    "    Наивно предсказывает следующий ход противника.\n",
    "    '''\n",
    "    if observation.step == 0:\n",
    "        return random.randint(0, 2)  # первый ход случайный\n",
    "    return (observation.lastOpponentAction + 1) % 3  # против хода соперника"
   ]
  },
  {
   "cell_type": "code",
   "execution_count": 11,
   "id": "99410af0",
   "metadata": {},
   "outputs": [
    {
     "name": "stdout",
     "output_type": "stream",
     "text": [
      "Overwriting agent_counter.py\n"
     ]
    }
   ],
   "source": [
    "%%writefile agent_counter.py\n",
    "# 9. Агент, выбирающий наиболее частый ход противника\n",
    "\n",
    "import random\n",
    "\n",
    "\n",
    "def agent_counter(observation, configuration):\n",
    "    '''\n",
    "    Выбирает наиболее частый ход противника.\n",
    "    '''\n",
    "    if observation.step == 0:\n",
    "        return random.randint(0, 2)  # первый ход случайный\n",
    "    opponent_actions = observation['observation']['opponentActions']\n",
    "    most_common = max(set(opponent_actions), key=opponent_actions.count)\n",
    "    return (most_common + 1) % 3"
   ]
  },
  {
   "cell_type": "code",
   "execution_count": null,
   "id": "848081b3",
   "metadata": {},
   "outputs": [],
   "source": []
  },
  {
   "cell_type": "code",
   "execution_count": 12,
   "id": "52e45aad",
   "metadata": {},
   "outputs": [
    {
     "name": "stdout",
     "output_type": "stream",
     "text": [
      "Overwriting agent_reactionary.py\n"
     ]
    }
   ],
   "source": [
    "%%writefile agent_reactionary.py\n",
    "# 10. Агент, который реагирует на последние действия противника\n",
    "\n",
    "import random\n",
    "import math\n",
    "\n",
    "\n",
    "def get_score(left_move, right_move):\n",
    "    '''\n",
    "    Вычисляет результат последнего действия. \n",
    "    Возвращает 0 при ничьей, 1 при выигрыше и -1 при проигрыше.\n",
    "    '''\n",
    "    delta = (\n",
    "        right_move - left_move\n",
    "        if (left_move + right_move) % 2 == 0\n",
    "        else left_move - right_move\n",
    "    )\n",
    "    return 0 if delta == 0 else math.copysign(1, delta)\n",
    "\n",
    "last_react_action = None\n",
    "def agent_reactionary(observation, configuration):\n",
    "    '''\n",
    "    Агент реагирует на последние действия противника.\n",
    "    Если предыдущий ход был проигран, выбирает новый ход.\n",
    "    '''\n",
    "    global last_react_action\n",
    "    if observation.step == 0:\n",
    "        last_react_action = random.randrange(0, configuration.signs)  # случайный первый ход\n",
    "    elif get_score(last_react_action, observation.lastOpponentAction) <= 1:\n",
    "        last_react_action = (observation.lastOpponentAction + 1) % configuration.signs  # выбирает следующий ход\n",
    "\n",
    "    return last_react_action"
   ]
  },
  {
   "cell_type": "code",
   "execution_count": null,
   "id": "5ec6c324",
   "metadata": {},
   "outputs": [],
   "source": []
  },
  {
   "cell_type": "code",
   "execution_count": 13,
   "id": "0fa347b3",
   "metadata": {},
   "outputs": [
    {
     "name": "stdout",
     "output_type": "stream",
     "text": [
      "Overwriting agent_counter_reactionary.py\n"
     ]
    }
   ],
   "source": [
    "%%writefile agent_counter_reactionary.py\n",
    "# 11. Агент, который выбирает действие в зависимости от результатов последних ходов\n",
    "\n",
    "import random\n",
    "import math\n",
    "\n",
    "last_counter_action = None\n",
    "def get_score(left_move, right_move):\n",
    "    '''\n",
    "    Возвращает счет на основе разницы между ходами.\n",
    "    '''\n",
    "    delta = (\n",
    "        right_move - left_move\n",
    "        if (left_move + right_move) % 2 == 0\n",
    "        else left_move - right_move\n",
    "    )\n",
    "    return 0 if delta == 0 else math.copysign(1, delta)\n",
    "\n",
    "def agent_counter_reactionary(observation, configuration):\n",
    "    '''\n",
    "    Если агент выиграл, выбирает действие, чтобы противодействовать.\n",
    "    Иначе адаптируется к ходу противника.\n",
    "    '''\n",
    "    global last_counter_action\n",
    "    if observation.step == 0:\n",
    "        last_counter_action = random.randrange(0, configuration.signs)  # случайный первый ход\n",
    "    elif get_score(last_counter_action, observation.lastOpponentAction) == 1:\n",
    "        last_counter_action = (last_counter_action + 2) % configuration.signs  # если выиграл, выбирает контр-ход\n",
    "    else:\n",
    "        last_counter_action = (observation.lastOpponentAction + 1) % configuration.signs  # выбирает ход противника + 1\n",
    "\n",
    "    return last_counter_action"
   ]
  },
  {
   "cell_type": "code",
   "execution_count": 14,
   "id": "ec87d11d",
   "metadata": {},
   "outputs": [
    {
     "name": "stdout",
     "output_type": "stream",
     "text": [
      "Overwriting agent_statistical.py\n"
     ]
    }
   ],
   "source": [
    "%%writefile agent_statistical.py\n",
    "# 12. Агент, который анализирует статистику ходов противника\n",
    "\n",
    "import random\n",
    "\n",
    "\n",
    "action_histogram = {}\n",
    "\n",
    "def agent_statistical(observation, configuration):\n",
    "    '''\n",
    "    Запоминает ходы противника и выбирает действие, чтобы противодействовать\n",
    "    наиболее частому ходу противника.\n",
    "    '''\n",
    "    global action_histogram\n",
    "    if observation.step == 0:\n",
    "        action_histogram = {}  # очищает историю в начале\n",
    "        return random.randint(0, 2)  # случайный ход в начале\n",
    "    \n",
    "    action = observation.lastOpponentAction\n",
    "    action_histogram[action] = action_histogram.get(action, 0) + 1  # считает ходы противника\n",
    "\n",
    "    mode_action = max(action_histogram, key=action_histogram.get)  # находит наиболее частый ход\n",
    "    return (mode_action + 1) % configuration.signs  # возвращает контр-ход"
   ]
  },
  {
   "cell_type": "code",
   "execution_count": 15,
   "id": "2cbeec76",
   "metadata": {},
   "outputs": [
    {
     "name": "stdout",
     "output_type": "stream",
     "text": [
      "Overwriting agent_Jonson.py\n"
     ]
    }
   ],
   "source": [
    "%%writefile agent_Jonson.py\n",
    "# 13. Агент Джонсона с анализом паттернов противника\n",
    "\n",
    "import numpy as np\n",
    "import collections\n",
    "\n",
    "\n",
    "def agent_Jonson(observation, configuration):\n",
    "    '''\n",
    "    Агент с анализом паттернов противника. Использует таблицу частот для предсказания.\n",
    "    '''\n",
    "    k = 2\n",
    "    global table, action_seq\n",
    "    if observation.step % 25 == 0:\n",
    "        action_seq, table = [], collections.defaultdict(lambda: [1, 1, 1])  # обновляет таблицу каждые 25 шагов\n",
    "    if len(action_seq) <= 2 * k + 1:\n",
    "        action = int(np.random.randint(3))\n",
    "        if observation.step > 0:\n",
    "            action_seq.extend([observation.lastOpponentAction, action])  # добавляет последний ход противника\n",
    "        else:\n",
    "            action_seq.append(action)\n",
    "        return action\n",
    "\n",
    "    key = ''.join([str(a) for a in action_seq[:-1]])  # ключ на основе последовательности ходов\n",
    "    table[key][observation.lastOpponentAction] += 1  # обновляет таблицу по ключу\n",
    "\n",
    "    action_seq[:-2] = action_seq[2:]\n",
    "    action_seq[-2] = observation.lastOpponentAction\n",
    "    key = ''.join([str(a) for a in action_seq[:-1]])\n",
    "    \n",
    "    if observation.step < 50:\n",
    "        next_opponent_action_pred = np.argmax(table[key])  # предсказание по таблице\n",
    "    else:\n",
    "        scores = np.array(table[key])\n",
    "        next_opponent_action_pred = np.random.choice(3, p=scores/scores.sum())\n",
    "        \n",
    "    action = (next_opponent_action_pred + 1) % 3\n",
    "    if observation.step > 90:\n",
    "        action = next_opponent_action_pred\n",
    "    action_seq[-1] = action\n",
    "    return int(action)"
   ]
  },
  {
   "cell_type": "code",
   "execution_count": 16,
   "id": "98d202eb",
   "metadata": {},
   "outputs": [
    {
     "name": "stdout",
     "output_type": "stream",
     "text": [
      "Overwriting agent_transition.py\n"
     ]
    }
   ],
   "source": [
    "%%writefile agent_transition.py\n",
    "# 14. Агент с матрицей переходов для предсказания действий противника\n",
    "\n",
    "import numpy as np\n",
    "import pandas as pd\n",
    "import random\n",
    "\n",
    "\n",
    "T = np.zeros((3, 3))\n",
    "P = np.zeros((3, 3))\n",
    "\n",
    "a1, a2 = None, None\n",
    "\n",
    "def agent_transition(observation, configuration):\n",
    "    '''\n",
    "    Агент анализирует переходы между действиями противника и предсказывает следующее.\n",
    "    '''\n",
    "    global T, P, a1, a2\n",
    "    if observation.step > 1:\n",
    "        a1 = observation.lastOpponentAction\n",
    "        T[a2, a1] += 1   # обновление матрицы переходов\n",
    "        P = np.divide(T, np.maximum(1, T.sum(axis=1)).reshape(-1, 1))\n",
    "        a2 = a1\n",
    "        if np.sum(P[a1, :]) == 1:\n",
    "            return int((np.random.choice([0, 1, 2], p=P[a1, :]) + 1) % 3)  # предсказание на основе вероятностей\n",
    "        else:\n",
    "            return int(np.random.randint(3))  # случайный ход\n",
    "    else:\n",
    "        if observation.step == 1:\n",
    "            a2 = observation.lastOpponentAction\n",
    "        return int(np.random.randint(3))"
   ]
  },
  {
   "cell_type": "code",
   "execution_count": null,
   "id": "2f05fde7",
   "metadata": {},
   "outputs": [],
   "source": []
  },
  {
   "cell_type": "markdown",
   "id": "6f62db77",
   "metadata": {},
   "source": [
    "### Турнир\n",
    "Создаем окружение и запускаем турнир между агентами"
   ]
  },
  {
   "cell_type": "code",
   "execution_count": 28,
   "id": "db75e42f",
   "metadata": {},
   "outputs": [
    {
     "name": "stdout",
     "output_type": "stream",
     "text": [
      "Победители: \n",
      " agent_reactionary.py agent_transition.py !\n"
     ]
    }
   ],
   "source": [
    "agents = ['always_rock', 'always_paper', 'always_scissors', 'rock_paper', 'paper_scissors', \n",
    "          'nash_equilibrium', 'copy_opponent', 'naive_predict',\n",
    "          'counter', 'reactionary', 'counter_reactionary', \n",
    "          'statistical', 'Jonson', 'transition']\n",
    "\n",
    "# Добавляем 'agent_' и '.py' к каждому агенту\n",
    "agents_py = [f'agent_{a}.py' for a in agents]\n",
    "n_agents = len(agents)\n",
    "\n",
    "# Инициализируем матрицу результатов\n",
    "scores = np.zeros((n_agents, n_agents))\n",
    "\n",
    "# Играем каждый агент против каждого\n",
    "for a1 in range(n_agents):\n",
    "    for a2 in range(a1 + 1, n_agents):\n",
    "        # Запускаем один матч на 200 ходов\n",
    "        result = evaluate('rps', \n",
    "                          [agents_py[a1], agents_py[a2]], \n",
    "                          configuration={'episodeSteps': 200}, \n",
    "                          num_episodes=1)\n",
    "        scores[a1][a2] = result[0][0]  # сохраняем результат для агента a1\n",
    "        scores[a2][a1] = result[0][1]  # сохраняем результат для агента a2\n",
    "\n",
    "# Определяем победителя\n",
    "vic = []\n",
    "for a1 in range(n_agents):\n",
    "    cnt_vic = sum(1 for a2 in range(n_agents) if scores[a1][a2] > 0)  # считаем победы агента\n",
    "    vic.append(cnt_vic)\n",
    "\n",
    "# Определяем индексы победителей\n",
    "i_victors = [i for i, v in enumerate(vic) if v == max(vic)]\n",
    "if len(i_victors) > 1:\n",
    "    print('Победители:', '\\n', *[agents_py[i] for i in i_victors], '!')\n",
    "else:\n",
    "    print('Победитель:', agents_py[i_victors[0]], '!')"
   ]
  },
  {
   "cell_type": "code",
   "execution_count": 29,
   "id": "fe14f296",
   "metadata": {},
   "outputs": [
    {
     "data": {
      "text/html": [
       "<div>\n",
       "<style scoped>\n",
       "    .dataframe tbody tr th:only-of-type {\n",
       "        vertical-align: middle;\n",
       "    }\n",
       "\n",
       "    .dataframe tbody tr th {\n",
       "        vertical-align: top;\n",
       "    }\n",
       "\n",
       "    .dataframe thead th {\n",
       "        text-align: right;\n",
       "    }\n",
       "</style>\n",
       "<table border=\"1\" class=\"dataframe\">\n",
       "  <thead>\n",
       "    <tr style=\"text-align: right;\">\n",
       "      <th></th>\n",
       "      <th>always_rock</th>\n",
       "      <th>always_paper</th>\n",
       "      <th>always_scissors</th>\n",
       "      <th>rock_paper</th>\n",
       "      <th>paper_scissors</th>\n",
       "      <th>nash_equilibrium</th>\n",
       "      <th>copy_opponent</th>\n",
       "      <th>naive_predict</th>\n",
       "      <th>counter</th>\n",
       "      <th>reactionary</th>\n",
       "      <th>counter_reactionary</th>\n",
       "      <th>statistical</th>\n",
       "      <th>Jonson</th>\n",
       "      <th>transition</th>\n",
       "    </tr>\n",
       "  </thead>\n",
       "  <tbody>\n",
       "    <tr>\n",
       "      <th>always_rock</th>\n",
       "      <td>0.0</td>\n",
       "      <td>-199.0</td>\n",
       "      <td>199.0</td>\n",
       "      <td>-93.0</td>\n",
       "      <td>0.0</td>\n",
       "      <td>0.0</td>\n",
       "      <td>0.0</td>\n",
       "      <td>-197.0</td>\n",
       "      <td>1.0</td>\n",
       "      <td>-198.0</td>\n",
       "      <td>-99.0</td>\n",
       "      <td>-199.0</td>\n",
       "      <td>-51.0</td>\n",
       "      <td>-197.0</td>\n",
       "    </tr>\n",
       "    <tr>\n",
       "      <th>always_paper</th>\n",
       "      <td>199.0</td>\n",
       "      <td>0.0</td>\n",
       "      <td>-199.0</td>\n",
       "      <td>99.0</td>\n",
       "      <td>-101.0</td>\n",
       "      <td>-24.0</td>\n",
       "      <td>0.0</td>\n",
       "      <td>-197.0</td>\n",
       "      <td>1.0</td>\n",
       "      <td>-197.0</td>\n",
       "      <td>-100.0</td>\n",
       "      <td>-199.0</td>\n",
       "      <td>-38.0</td>\n",
       "      <td>-195.0</td>\n",
       "    </tr>\n",
       "    <tr>\n",
       "      <th>always_scissors</th>\n",
       "      <td>-199.0</td>\n",
       "      <td>199.0</td>\n",
       "      <td>0.0</td>\n",
       "      <td>0.0</td>\n",
       "      <td>95.0</td>\n",
       "      <td>0.0</td>\n",
       "      <td>0.0</td>\n",
       "      <td>-197.0</td>\n",
       "      <td>1.0</td>\n",
       "      <td>-197.0</td>\n",
       "      <td>-98.0</td>\n",
       "      <td>-199.0</td>\n",
       "      <td>-50.0</td>\n",
       "      <td>-197.0</td>\n",
       "    </tr>\n",
       "    <tr>\n",
       "      <th>rock_paper</th>\n",
       "      <td>93.0</td>\n",
       "      <td>-99.0</td>\n",
       "      <td>0.0</td>\n",
       "      <td>0.0</td>\n",
       "      <td>-44.0</td>\n",
       "      <td>0.0</td>\n",
       "      <td>0.0</td>\n",
       "      <td>-31.0</td>\n",
       "      <td>1.0</td>\n",
       "      <td>-60.0</td>\n",
       "      <td>-21.0</td>\n",
       "      <td>-64.0</td>\n",
       "      <td>0.0</td>\n",
       "      <td>-44.0</td>\n",
       "    </tr>\n",
       "    <tr>\n",
       "      <th>paper_scissors</th>\n",
       "      <td>0.0</td>\n",
       "      <td>101.0</td>\n",
       "      <td>-95.0</td>\n",
       "      <td>44.0</td>\n",
       "      <td>0.0</td>\n",
       "      <td>0.0</td>\n",
       "      <td>0.0</td>\n",
       "      <td>-51.0</td>\n",
       "      <td>1.0</td>\n",
       "      <td>-55.0</td>\n",
       "      <td>0.0</td>\n",
       "      <td>-105.0</td>\n",
       "      <td>0.0</td>\n",
       "      <td>-40.0</td>\n",
       "    </tr>\n",
       "    <tr>\n",
       "      <th>nash_equilibrium</th>\n",
       "      <td>0.0</td>\n",
       "      <td>24.0</td>\n",
       "      <td>0.0</td>\n",
       "      <td>0.0</td>\n",
       "      <td>0.0</td>\n",
       "      <td>0.0</td>\n",
       "      <td>0.0</td>\n",
       "      <td>0.0</td>\n",
       "      <td>1.0</td>\n",
       "      <td>0.0</td>\n",
       "      <td>0.0</td>\n",
       "      <td>0.0</td>\n",
       "      <td>0.0</td>\n",
       "      <td>0.0</td>\n",
       "    </tr>\n",
       "    <tr>\n",
       "      <th>copy_opponent</th>\n",
       "      <td>0.0</td>\n",
       "      <td>0.0</td>\n",
       "      <td>0.0</td>\n",
       "      <td>0.0</td>\n",
       "      <td>0.0</td>\n",
       "      <td>0.0</td>\n",
       "      <td>0.0</td>\n",
       "      <td>199.0</td>\n",
       "      <td>1.0</td>\n",
       "      <td>-100.0</td>\n",
       "      <td>197.0</td>\n",
       "      <td>-41.0</td>\n",
       "      <td>0.0</td>\n",
       "      <td>0.0</td>\n",
       "    </tr>\n",
       "    <tr>\n",
       "      <th>naive_predict</th>\n",
       "      <td>197.0</td>\n",
       "      <td>197.0</td>\n",
       "      <td>197.0</td>\n",
       "      <td>31.0</td>\n",
       "      <td>51.0</td>\n",
       "      <td>0.0</td>\n",
       "      <td>-199.0</td>\n",
       "      <td>0.0</td>\n",
       "      <td>1.0</td>\n",
       "      <td>0.0</td>\n",
       "      <td>-197.0</td>\n",
       "      <td>119.0</td>\n",
       "      <td>0.0</td>\n",
       "      <td>0.0</td>\n",
       "    </tr>\n",
       "    <tr>\n",
       "      <th>counter</th>\n",
       "      <td>NaN</td>\n",
       "      <td>NaN</td>\n",
       "      <td>NaN</td>\n",
       "      <td>NaN</td>\n",
       "      <td>NaN</td>\n",
       "      <td>NaN</td>\n",
       "      <td>NaN</td>\n",
       "      <td>NaN</td>\n",
       "      <td>0.0</td>\n",
       "      <td>NaN</td>\n",
       "      <td>NaN</td>\n",
       "      <td>NaN</td>\n",
       "      <td>NaN</td>\n",
       "      <td>NaN</td>\n",
       "    </tr>\n",
       "    <tr>\n",
       "      <th>reactionary</th>\n",
       "      <td>198.0</td>\n",
       "      <td>197.0</td>\n",
       "      <td>197.0</td>\n",
       "      <td>60.0</td>\n",
       "      <td>55.0</td>\n",
       "      <td>0.0</td>\n",
       "      <td>100.0</td>\n",
       "      <td>0.0</td>\n",
       "      <td>1.0</td>\n",
       "      <td>0.0</td>\n",
       "      <td>-197.0</td>\n",
       "      <td>117.0</td>\n",
       "      <td>0.0</td>\n",
       "      <td>0.0</td>\n",
       "    </tr>\n",
       "    <tr>\n",
       "      <th>counter_reactionary</th>\n",
       "      <td>99.0</td>\n",
       "      <td>100.0</td>\n",
       "      <td>98.0</td>\n",
       "      <td>21.0</td>\n",
       "      <td>0.0</td>\n",
       "      <td>0.0</td>\n",
       "      <td>-197.0</td>\n",
       "      <td>197.0</td>\n",
       "      <td>1.0</td>\n",
       "      <td>197.0</td>\n",
       "      <td>0.0</td>\n",
       "      <td>0.0</td>\n",
       "      <td>-26.0</td>\n",
       "      <td>-126.0</td>\n",
       "    </tr>\n",
       "    <tr>\n",
       "      <th>statistical</th>\n",
       "      <td>199.0</td>\n",
       "      <td>199.0</td>\n",
       "      <td>199.0</td>\n",
       "      <td>64.0</td>\n",
       "      <td>105.0</td>\n",
       "      <td>0.0</td>\n",
       "      <td>41.0</td>\n",
       "      <td>-119.0</td>\n",
       "      <td>1.0</td>\n",
       "      <td>-117.0</td>\n",
       "      <td>0.0</td>\n",
       "      <td>0.0</td>\n",
       "      <td>0.0</td>\n",
       "      <td>-94.0</td>\n",
       "    </tr>\n",
       "    <tr>\n",
       "      <th>Jonson</th>\n",
       "      <td>51.0</td>\n",
       "      <td>38.0</td>\n",
       "      <td>50.0</td>\n",
       "      <td>0.0</td>\n",
       "      <td>0.0</td>\n",
       "      <td>0.0</td>\n",
       "      <td>0.0</td>\n",
       "      <td>0.0</td>\n",
       "      <td>1.0</td>\n",
       "      <td>0.0</td>\n",
       "      <td>26.0</td>\n",
       "      <td>0.0</td>\n",
       "      <td>0.0</td>\n",
       "      <td>0.0</td>\n",
       "    </tr>\n",
       "    <tr>\n",
       "      <th>transition</th>\n",
       "      <td>197.0</td>\n",
       "      <td>195.0</td>\n",
       "      <td>197.0</td>\n",
       "      <td>44.0</td>\n",
       "      <td>40.0</td>\n",
       "      <td>0.0</td>\n",
       "      <td>0.0</td>\n",
       "      <td>0.0</td>\n",
       "      <td>1.0</td>\n",
       "      <td>0.0</td>\n",
       "      <td>126.0</td>\n",
       "      <td>94.0</td>\n",
       "      <td>0.0</td>\n",
       "      <td>0.0</td>\n",
       "    </tr>\n",
       "  </tbody>\n",
       "</table>\n",
       "</div>"
      ],
      "text/plain": [
       "                     always_rock  always_paper  always_scissors  rock_paper  \\\n",
       "always_rock                  0.0        -199.0            199.0       -93.0   \n",
       "always_paper               199.0           0.0           -199.0        99.0   \n",
       "always_scissors           -199.0         199.0              0.0         0.0   \n",
       "rock_paper                  93.0         -99.0              0.0         0.0   \n",
       "paper_scissors               0.0         101.0            -95.0        44.0   \n",
       "nash_equilibrium             0.0          24.0              0.0         0.0   \n",
       "copy_opponent                0.0           0.0              0.0         0.0   \n",
       "naive_predict              197.0         197.0            197.0        31.0   \n",
       "counter                      NaN           NaN              NaN         NaN   \n",
       "reactionary                198.0         197.0            197.0        60.0   \n",
       "counter_reactionary         99.0         100.0             98.0        21.0   \n",
       "statistical                199.0         199.0            199.0        64.0   \n",
       "Jonson                      51.0          38.0             50.0         0.0   \n",
       "transition                 197.0         195.0            197.0        44.0   \n",
       "\n",
       "                     paper_scissors  nash_equilibrium  copy_opponent  \\\n",
       "always_rock                     0.0               0.0            0.0   \n",
       "always_paper                 -101.0             -24.0            0.0   \n",
       "always_scissors                95.0               0.0            0.0   \n",
       "rock_paper                    -44.0               0.0            0.0   \n",
       "paper_scissors                  0.0               0.0            0.0   \n",
       "nash_equilibrium                0.0               0.0            0.0   \n",
       "copy_opponent                   0.0               0.0            0.0   \n",
       "naive_predict                  51.0               0.0         -199.0   \n",
       "counter                         NaN               NaN            NaN   \n",
       "reactionary                    55.0               0.0          100.0   \n",
       "counter_reactionary             0.0               0.0         -197.0   \n",
       "statistical                   105.0               0.0           41.0   \n",
       "Jonson                          0.0               0.0            0.0   \n",
       "transition                     40.0               0.0            0.0   \n",
       "\n",
       "                     naive_predict  counter  reactionary  counter_reactionary  \\\n",
       "always_rock                 -197.0      1.0       -198.0                -99.0   \n",
       "always_paper                -197.0      1.0       -197.0               -100.0   \n",
       "always_scissors             -197.0      1.0       -197.0                -98.0   \n",
       "rock_paper                   -31.0      1.0        -60.0                -21.0   \n",
       "paper_scissors               -51.0      1.0        -55.0                  0.0   \n",
       "nash_equilibrium               0.0      1.0          0.0                  0.0   \n",
       "copy_opponent                199.0      1.0       -100.0                197.0   \n",
       "naive_predict                  0.0      1.0          0.0               -197.0   \n",
       "counter                        NaN      0.0          NaN                  NaN   \n",
       "reactionary                    0.0      1.0          0.0               -197.0   \n",
       "counter_reactionary          197.0      1.0        197.0                  0.0   \n",
       "statistical                 -119.0      1.0       -117.0                  0.0   \n",
       "Jonson                         0.0      1.0          0.0                 26.0   \n",
       "transition                     0.0      1.0          0.0                126.0   \n",
       "\n",
       "                     statistical  Jonson  transition  \n",
       "always_rock               -199.0   -51.0      -197.0  \n",
       "always_paper              -199.0   -38.0      -195.0  \n",
       "always_scissors           -199.0   -50.0      -197.0  \n",
       "rock_paper                 -64.0     0.0       -44.0  \n",
       "paper_scissors            -105.0     0.0       -40.0  \n",
       "nash_equilibrium             0.0     0.0         0.0  \n",
       "copy_opponent              -41.0     0.0         0.0  \n",
       "naive_predict              119.0     0.0         0.0  \n",
       "counter                      NaN     NaN         NaN  \n",
       "reactionary                117.0     0.0         0.0  \n",
       "counter_reactionary          0.0   -26.0      -126.0  \n",
       "statistical                  0.0     0.0       -94.0  \n",
       "Jonson                       0.0     0.0         0.0  \n",
       "transition                  94.0     0.0         0.0  "
      ]
     },
     "execution_count": 29,
     "metadata": {},
     "output_type": "execute_result"
    }
   ],
   "source": [
    "# Строим матрицу корреляций\n",
    "df_scores = pd.DataFrame(scores, index=agents, columns=agents)\n",
    "\n",
    "df_scores"
   ]
  },
  {
   "cell_type": "code",
   "execution_count": null,
   "id": "86d9fab9",
   "metadata": {},
   "outputs": [],
   "source": []
  },
  {
   "cell_type": "markdown",
   "id": "4d9c7134",
   "metadata": {},
   "source": [
    "### Анализ результатов"
   ]
  },
  {
   "cell_type": "code",
   "execution_count": 30,
   "id": "fa05bdfb",
   "metadata": {},
   "outputs": [
    {
     "data": {
      "image/png": "[encoded data removed]",
      "text/plain": [
       "<Figure size 1000x1000 with 2 Axes>"
      ]
     },
     "metadata": {},
     "output_type": "display_data"
    }
   ],
   "source": [
    "# Строим дополнительную визуализацию\n",
    "import math\n",
    "from matplotlib.colors import LinearSegmentedColormap\n",
    "\n",
    "cmatrix = df_scores.corr() * 100\n",
    "cmap = LinearSegmentedColormap.from_list('RedGreenRed', \n",
    "                                         ['crimson', 'yellow', 'yellowgreen', 'yellow'], \n",
    "                                         20)\n",
    "mask = np.triu(np.ones(cmatrix.shape[0]), k=0)\n",
    "\n",
    "# Тепловая карта матрицы очков\n",
    "fig, ax = plt.subplots(figsize=(10, 10))\n",
    "sns.heatmap(\n",
    "    ax=ax, data=cmatrix, \n",
    "#     cmap='coolwarm',\n",
    "    cmap=cmap, \n",
    "    vmin=-100, vmax=100, \n",
    "    linewidths=.5, \n",
    "    square=True, annot=True, \n",
    "    mask=mask, \n",
    "    annot_kws={'size':35 / math.sqrt(cmatrix.shape[0])})\n",
    "plt.title('Результаты турнира')\n",
    "plt.show()"
   ]
  },
  {
   "cell_type": "code",
   "execution_count": 31,
   "id": "be4a9184",
   "metadata": {},
   "outputs": [
    {
     "name": "stdout",
     "output_type": "stream",
     "text": [
      "Топ-3:\n",
      "transition             894.0\n",
      "reactionary            728.0\n",
      "statistical            478.0\n",
      "naive_predict          397.0\n",
      "counter_reactionary    364.0\n",
      "Name: sum, dtype: float64\n"
     ]
    }
   ],
   "source": [
    "# Выявляем топ-3\n",
    "df_scores['sum'] = df_scores[agents].sum(axis=1)\n",
    "df_scores.sort_values(by=['sum'], ascending=False, inplace=True)\n",
    "\n",
    "print('Топ-3:')\n",
    "print(df_scores.head(5)['sum'])"
   ]
  }
 ],
 "metadata": {
  "kernelspec": {
   "display_name": "Python 3 (ipykernel)",
   "language": "python",
   "name": "python3"
  },
  "language_info": {
   "codemirror_mode": {
    "name": "ipython",
    "version": 3
   },
   "file_extension": ".py",
   "mimetype": "text/x-python",
   "name": "python",
   "nbconvert_exporter": "python",
   "pygments_lexer": "ipython3",
   "version": "3.9.18"
  },
  "toc": {
   "base_numbering": 1,
   "nav_menu": {},
   "number_sections": false,
   "sideBar": true,
   "skip_h1_title": false,
   "title_cell": "Table of Contents",
   "title_sidebar": "Contents",
   "toc_cell": false,
   "toc_position": {
    "height": "calc(100% - 180px)",
    "left": "10px",
    "top": "150px",
    "width": "384px"
   },
   "toc_section_display": true,
   "toc_window_display": true
  },
  "varInspector": {
   "cols": {
    "lenName": 16,
    "lenType": 16,
    "lenVar": 40
   },
   "kernels_config": {
    "python": {
     "delete_cmd_postfix": "",
     "delete_cmd_prefix": "del ",
     "library": "var_list.py",
     "varRefreshCmd": "print(var_dic_list())"
    },
    "r": {
     "delete_cmd_postfix": ") ",
     "delete_cmd_prefix": "rm(",
     "library": "var_list.r",
     "varRefreshCmd": "cat(var_dic_list()) "
    }
   },
   "types_to_exclude": [
    "module",
    "function",
    "builtin_function_or_method",
    "instance",
    "_Feature"
   ],
   "window_display": false
  }
 },
 "nbformat": 4,
 "nbformat_minor": 5
}

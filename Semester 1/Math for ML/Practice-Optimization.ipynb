{
 "cells": [
  {
   "cell_type": "markdown",
   "metadata": {
    "id": "NyHIGVhfa_Wf"
   },
   "source": [
    "# Стохастический градиентный и координатный спуски"
   ]
  },
  {
   "cell_type": "markdown",
   "metadata": {
    "id": "gn6lluIADUKa"
   },
   "source": [
    "Для каждого задания указано количество баллов (если они оцениваются отдельно) + 1 балл за аккуратное и полное выполнение всего задания"
   ]
  },
  {
   "cell_type": "markdown",
   "metadata": {},
   "source": [
    "## Imports and Config"
   ]
  },
  {
   "cell_type": "code",
   "execution_count": 151,
   "metadata": {},
   "outputs": [],
   "source": [
    "# Импортируем необходимые библиотеки, задаём настройки\n",
    "import pandas as pd\n",
    "import numpy as np\n",
    "\n",
    "import matplotlib.pyplot as plt\n",
    "%matplotlib inline\n",
    "\n",
    "np.random.seed(42)  # для воспроизводимости экспериментов"
   ]
  },
  {
   "cell_type": "markdown",
   "metadata": {
    "id": "txCccYvha_Wv"
   },
   "source": [
    "## Загрузка и подготовка данных"
   ]
  },
  {
   "cell_type": "markdown",
   "metadata": {
    "id": "NbyOzeZ6a_Wx"
   },
   "source": [
    "**Загрузите уже знакомый вам файл *Advertising.csv* как объект DataFrame.** "
   ]
  },
  {
   "cell_type": "code",
   "execution_count": 499,
   "metadata": {
    "id": "E1L4_xeDa_Wz"
   },
   "outputs": [
    {
     "data": {
      "text/html": [
       "<div>\n",
       "<style scoped>\n",
       "    .dataframe tbody tr th:only-of-type {\n",
       "        vertical-align: middle;\n",
       "    }\n",
       "\n",
       "    .dataframe tbody tr th {\n",
       "        vertical-align: top;\n",
       "    }\n",
       "\n",
       "    .dataframe thead th {\n",
       "        text-align: right;\n",
       "    }\n",
       "</style>\n",
       "<table border=\"1\" class=\"dataframe\">\n",
       "  <thead>\n",
       "    <tr style=\"text-align: right;\">\n",
       "      <th></th>\n",
       "      <th>TV</th>\n",
       "      <th>radio</th>\n",
       "      <th>newspaper</th>\n",
       "      <th>sales</th>\n",
       "    </tr>\n",
       "  </thead>\n",
       "  <tbody>\n",
       "    <tr>\n",
       "      <th>1</th>\n",
       "      <td>230.1</td>\n",
       "      <td>37.8</td>\n",
       "      <td>69.2</td>\n",
       "      <td>22.1</td>\n",
       "    </tr>\n",
       "    <tr>\n",
       "      <th>2</th>\n",
       "      <td>44.5</td>\n",
       "      <td>39.3</td>\n",
       "      <td>45.1</td>\n",
       "      <td>10.4</td>\n",
       "    </tr>\n",
       "    <tr>\n",
       "      <th>3</th>\n",
       "      <td>17.2</td>\n",
       "      <td>45.9</td>\n",
       "      <td>69.3</td>\n",
       "      <td>9.3</td>\n",
       "    </tr>\n",
       "    <tr>\n",
       "      <th>4</th>\n",
       "      <td>151.5</td>\n",
       "      <td>41.3</td>\n",
       "      <td>58.5</td>\n",
       "      <td>18.5</td>\n",
       "    </tr>\n",
       "    <tr>\n",
       "      <th>5</th>\n",
       "      <td>180.8</td>\n",
       "      <td>10.8</td>\n",
       "      <td>58.4</td>\n",
       "      <td>12.9</td>\n",
       "    </tr>\n",
       "    <tr>\n",
       "      <th>...</th>\n",
       "      <td>...</td>\n",
       "      <td>...</td>\n",
       "      <td>...</td>\n",
       "      <td>...</td>\n",
       "    </tr>\n",
       "    <tr>\n",
       "      <th>196</th>\n",
       "      <td>38.2</td>\n",
       "      <td>3.7</td>\n",
       "      <td>13.8</td>\n",
       "      <td>7.6</td>\n",
       "    </tr>\n",
       "    <tr>\n",
       "      <th>197</th>\n",
       "      <td>94.2</td>\n",
       "      <td>4.9</td>\n",
       "      <td>8.1</td>\n",
       "      <td>9.7</td>\n",
       "    </tr>\n",
       "    <tr>\n",
       "      <th>198</th>\n",
       "      <td>177.0</td>\n",
       "      <td>9.3</td>\n",
       "      <td>6.4</td>\n",
       "      <td>12.8</td>\n",
       "    </tr>\n",
       "    <tr>\n",
       "      <th>199</th>\n",
       "      <td>283.6</td>\n",
       "      <td>42.0</td>\n",
       "      <td>66.2</td>\n",
       "      <td>25.5</td>\n",
       "    </tr>\n",
       "    <tr>\n",
       "      <th>200</th>\n",
       "      <td>232.1</td>\n",
       "      <td>8.6</td>\n",
       "      <td>8.7</td>\n",
       "      <td>13.4</td>\n",
       "    </tr>\n",
       "  </tbody>\n",
       "</table>\n",
       "<p>200 rows × 4 columns</p>\n",
       "</div>"
      ],
      "text/plain": [
       "        TV  radio  newspaper  sales\n",
       "1    230.1   37.8       69.2   22.1\n",
       "2     44.5   39.3       45.1   10.4\n",
       "3     17.2   45.9       69.3    9.3\n",
       "4    151.5   41.3       58.5   18.5\n",
       "5    180.8   10.8       58.4   12.9\n",
       "..     ...    ...        ...    ...\n",
       "196   38.2    3.7       13.8    7.6\n",
       "197   94.2    4.9        8.1    9.7\n",
       "198  177.0    9.3        6.4   12.8\n",
       "199  283.6   42.0       66.2   25.5\n",
       "200  232.1    8.6        8.7   13.4\n",
       "\n",
       "[200 rows x 4 columns]"
      ]
     },
     "execution_count": 499,
     "metadata": {},
     "output_type": "execute_result"
    }
   ],
   "source": [
    "# Загрузим CSV, используем имеющуюся колонку индексов\n",
    "df = pd.read_csv('data/Advertising.csv', index_col=0)\n",
    "\n",
    "df"
   ]
  },
  {
   "cell_type": "markdown",
   "metadata": {
    "id": "bf4aVFndDUKf"
   },
   "source": [
    "**Проверьте, есть ли в данных пропуски и, если они есть - удалите их**"
   ]
  },
  {
   "cell_type": "code",
   "execution_count": 500,
   "metadata": {},
   "outputs": [
    {
     "name": "stdout",
     "output_type": "stream",
     "text": [
      "<class 'pandas.core.frame.DataFrame'>\n",
      "Int64Index: 200 entries, 1 to 200\n",
      "Data columns (total 4 columns):\n",
      " #   Column     Non-Null Count  Dtype  \n",
      "---  ------     --------------  -----  \n",
      " 0   TV         200 non-null    float64\n",
      " 1   radio      200 non-null    float64\n",
      " 2   newspaper  200 non-null    float64\n",
      " 3   sales      200 non-null    float64\n",
      "dtypes: float64(4)\n",
      "memory usage: 7.8 KB\n"
     ]
    }
   ],
   "source": [
    "df.info()"
   ]
  },
  {
   "cell_type": "code",
   "execution_count": 501,
   "metadata": {
    "id": "tiVeFnR5DUKg"
   },
   "outputs": [
    {
     "data": {
      "text/plain": [
       "TV           0\n",
       "radio        0\n",
       "newspaper    0\n",
       "sales        0\n",
       "dtype: int64"
      ]
     },
     "execution_count": 501,
     "metadata": {},
     "output_type": "execute_result"
    }
   ],
   "source": [
    "df.isnull().sum()"
   ]
  },
  {
   "cell_type": "markdown",
   "metadata": {},
   "source": [
    "- пропуски отсутствуют\n",
    "\n"
   ]
  },
  {
   "cell_type": "markdown",
   "metadata": {
    "id": "rTkiqPr_DUKh"
   },
   "source": [
    "**Преобразуйте ваши признаки в массивы NumPy и разделите их на переменные X (предикторы) и y(целевая переменная)** "
   ]
  },
  {
   "cell_type": "code",
   "execution_count": 502,
   "metadata": {},
   "outputs": [],
   "source": [
    "# numpy-arrays - это просто values у датафрейма\n",
    "\n",
    "X = df.drop(['sales'], axis=1).values  # предикторы\n",
    "y = df['sales'].values  # целевая переменная"
   ]
  },
  {
   "cell_type": "code",
   "execution_count": 503,
   "metadata": {},
   "outputs": [
    {
     "data": {
      "text/plain": [
       "((200, 3), (200,))"
      ]
     },
     "execution_count": 503,
     "metadata": {},
     "output_type": "execute_result"
    }
   ],
   "source": [
    "X.shape, y.shape"
   ]
  },
  {
   "cell_type": "markdown",
   "metadata": {
    "id": "KCvjSoHEDUKo"
   },
   "source": [
    "## Координатный спуск (3 балла)"
   ]
  },
  {
   "cell_type": "markdown",
   "metadata": {
    "id": "yjNm8dATDUKq"
   },
   "source": [
    "**Добавим единичный столбец для того, чтобы у нас был свободный коэффициент в уравнении регрессии:**"
   ]
  },
  {
   "cell_type": "code",
   "execution_count": 504,
   "metadata": {
    "id": "LMgq0fmKDUKr"
   },
   "outputs": [],
   "source": [
    "X = np.hstack([np.ones(X.shape[0]).reshape(-1, 1), X])"
   ]
  },
  {
   "cell_type": "markdown",
   "metadata": {
    "id": "R008OQwcDUKt"
   },
   "source": [
    "**Нормализуем данные: обычно это необходимо для корректной работы алгоритма**"
   ]
  },
  {
   "cell_type": "code",
   "execution_count": 505,
   "metadata": {
    "id": "2Sk7Wx-SDUKt"
   },
   "outputs": [],
   "source": [
    "X = X / np.sqrt(np.sum(np.square(X), axis=0))"
   ]
  },
  {
   "cell_type": "markdown",
   "metadata": {
    "id": "F_pHHbAdDUKu"
   },
   "source": [
    "**Реализуйте алгоритм координатного спуска:** (3 балла)\n",
    "\n",
    "Ниже приведен алгоритм:"
   ]
  },
  {
   "cell_type": "markdown",
   "metadata": {
    "id": "jBQ8vT5UDUKu"
   },
   "source": [
    "<a href=\"https://ibb.co/Th3BQFn\"><img src=\"https://i.ibb.co/DK2DBS6/zascas.jpg\" alt=\"zascas\" border=\"0\"></a>"
   ]
  },
  {
   "cell_type": "markdown",
   "metadata": {
    "id": "5ce_yM20DUKv"
   },
   "source": [
    "Примечание: 1000 итераций здесь указаны для этого задания, на самом деле их может быть намного больше, нет детерменированного значения."
   ]
  },
  {
   "cell_type": "markdown",
   "metadata": {
    "id": "y3IdiHm9DUKv"
   },
   "source": [
    "Вам необходимо реализовать координатный спуск, и вывести веса в модели линейной регрессии."
   ]
  },
  {
   "cell_type": "code",
   "execution_count": 506,
   "metadata": {},
   "outputs": [
    {
     "name": "stdout",
     "output_type": "stream",
     "text": [
      "Веса модели (координатный спуск):\n",
      "[ 41.56217205 110.13144155  73.52860638  -0.55006384]\n"
     ]
    }
   ],
   "source": [
    "def coordinate_descent(X, y, n_iter=1000):\n",
    "    '''\n",
    "    Реализует алгоритм оптимизации - координатный спуск\n",
    "    \n",
    "    Аргументы:\n",
    "                X (ndarray): матрица предикторов.\n",
    "                y (ndarray): вектор весов.\n",
    "                n_iter (int): количество производимых итераций.\n",
    "    Возвращает:\n",
    "                ndarray: вектор прогнозов.\n",
    "    '''\n",
    "    w = np.zeros(X.shape[1])  # нулевой вектор весов на старте\n",
    "\n",
    "    # Реализуем координатный спуск\n",
    "    for _ in range(n_iter):  # делаем заданное число итераций\n",
    "        for j in range(X.shape[1]):  # перебираем все признаки\n",
    "            r = y - X @ w  # остаточная ошибка - вектор разницы между реальными и предсказанными значениями\n",
    "            r_no_j = r + X[:, j] * w[j]  # временная ошибка с текущим весом\n",
    "            w[j] = X[:, j] @ r_no_j  # обновление текущего веса w_j\n",
    "            r = r - X[:, j] * w[j]  # пересчёт остаточной ошибки\n",
    "\n",
    "    return w\n",
    "\n",
    "w_ = coordinate_descent(X, y, n_iter=1000)\n",
    "\n",
    "print(f'Веса модели (координатный спуск):')\n",
    "print(w_)"
   ]
  },
  {
   "cell_type": "markdown",
   "metadata": {
    "id": "a3jG-7UADUKx"
   },
   "source": [
    "Сравните результаты с реализацией линейной регрессии из библиотеки sklearn:"
   ]
  },
  {
   "cell_type": "code",
   "execution_count": 254,
   "metadata": {
    "id": "SBl-1Yb5DUKy"
   },
   "outputs": [
    {
     "name": "stdout",
     "output_type": "stream",
     "text": [
      "[ 41.56217205 110.13144155  73.52860638  -0.55006384]\n"
     ]
    }
   ],
   "source": [
    "from sklearn.linear_model import LinearRegression\n",
    " \n",
    "model = LinearRegression(fit_intercept=False)\n",
    "model.fit(X, y)\n",
    " \n",
    "print(model.coef_)"
   ]
  },
  {
   "cell_type": "markdown",
   "metadata": {
    "id": "hIl0AGLyDUKy"
   },
   "source": [
    "Если вы все сделали верно, они должны практически совпасть!"
   ]
  },
  {
   "cell_type": "code",
   "execution_count": null,
   "metadata": {},
   "outputs": [],
   "source": []
  },
  {
   "cell_type": "markdown",
   "metadata": {
    "id": "VCGwFnPdDUKz"
   },
   "source": [
    "## Стохастический градиентный спуск (6 баллов)"
   ]
  },
  {
   "cell_type": "markdown",
   "metadata": {
    "id": "5u7Q2YJla_Xk"
   },
   "source": [
    "**Отмасштабируйте столбцы исходной матрицы *X* (которую мы не нормализовали еще!). Для того, чтобы это сделать, надо вычесть из каждого значения среднее и разделить на стандартное отклонение** (0.5 баллов)"
   ]
  },
  {
   "cell_type": "code",
   "execution_count": 539,
   "metadata": {},
   "outputs": [
    {
     "data": {
      "text/plain": [
       "array([[230.1,  37.8,  69.2],\n",
       "       [ 44.5,  39.3,  45.1],\n",
       "       [ 17.2,  45.9,  69.3],\n",
       "       [151.5,  41.3,  58.5],\n",
       "       [180.8,  10.8,  58.4],\n",
       "       [  8.7,  48.9,  75. ],\n",
       "       [ 57.5,  32.8,  23.5],\n",
       "       [120.2,  19.6,  11.6],\n",
       "       [  8.6,   2.1,   1. ],\n",
       "       [199.8,   2.6,  21.2]])"
      ]
     },
     "execution_count": 539,
     "metadata": {},
     "output_type": "execute_result"
    }
   ],
   "source": [
    "# Зададим предикторы (заново)\n",
    "X = df.drop(['sales'], axis=1).values\n",
    "\n",
    "# Проверим значения первых 10 рядов признаков\n",
    "X[:10]"
   ]
  },
  {
   "cell_type": "code",
   "execution_count": 540,
   "metadata": {
    "id": "9cEpV_5La_Xo"
   },
   "outputs": [
    {
     "data": {
      "text/plain": [
       "array([[ 0.96985227,  0.98152247,  1.77894547],\n",
       "       [-1.19737623,  1.08280781,  0.66957876],\n",
       "       [-1.51615499,  1.52846331,  1.78354865],\n",
       "       [ 0.05204968,  1.21785493,  1.28640506],\n",
       "       [ 0.3941822 , -0.84161366,  1.28180188],\n",
       "       [-1.61540845,  1.73103399,  2.04592999],\n",
       "       [-1.04557682,  0.64390467, -0.32470841],\n",
       "       [-0.31343659, -0.24740632, -0.87248699],\n",
       "       [-1.61657614, -1.42906863, -1.36042422],\n",
       "       [ 0.61604287, -1.39530685, -0.43058158]])"
      ]
     },
     "execution_count": 540,
     "metadata": {},
     "output_type": "execute_result"
    }
   ],
   "source": [
    "# Отмасштабируем исходные предикторы X\n",
    "# Вычитаем из каждого значения среднее (mean) и делим на стандартное отклонение (std)\n",
    "X = (X - X.mean(axis=0)) / X.std(axis=0)\n",
    "\n",
    "# Проверим значения первых 10 рядов признаков\n",
    "X[:10]"
   ]
  },
  {
   "cell_type": "markdown",
   "metadata": {
    "id": "8WkNYILHDUK1"
   },
   "source": [
    "**Добавим единичный столбец**"
   ]
  },
  {
   "cell_type": "code",
   "execution_count": 541,
   "metadata": {
    "id": "EVl5tEGtDUK1"
   },
   "outputs": [],
   "source": [
    "X = np.hstack([np.ones(X.shape[0]).reshape(-1, 1), X])"
   ]
  },
  {
   "cell_type": "markdown",
   "metadata": {
    "id": "m53tZA5fDUK1"
   },
   "source": [
    "**Создайте функцию mse_error для вычисления среднеквадратичной ошибки, принимающую два аргумента: реальные значения и предсказывающие, и возвращающую значение mse** (0.5 балла)"
   ]
  },
  {
   "cell_type": "code",
   "execution_count": 542,
   "metadata": {
    "id": "0cvtC08Aa_YK"
   },
   "outputs": [],
   "source": [
    "def mse_error(y_true, y_pred):\n",
    "    '''\n",
    "    Вычисляет среднеквадратичую ошибку.\n",
    "    \n",
    "    Аргументы:\n",
    "                y_true (ndarray):  реальные значения.\n",
    "                y_pred (ndarray):  предсказываемые значения.\n",
    "    Возвращает:\n",
    "                ndarray: значение среднеквадратичной ошибки.\n",
    "    '''\n",
    "    return np.mean((y_true - y_pred)**2)  # ищем среднее квадрата разницы"
   ]
  },
  {
   "cell_type": "markdown",
   "metadata": {
    "id": "lpOLhdvBDUK2"
   },
   "source": [
    "**Сделайте наивный прогноз: предскажите продажи средним значением. После этого рассчитайте среднеквадратичную ошибку для этого прогноза** (0.5 балла)"
   ]
  },
  {
   "cell_type": "code",
   "execution_count": 465,
   "metadata": {
    "id": "kLV_XljVa_YZ"
   },
   "outputs": [
    {
     "name": "stdout",
     "output_type": "stream",
     "text": [
      "Наивный прогноз (y_pred = np.mean(y): 14.0225)\n",
      "MSE: 27.085743750000002\n"
     ]
    }
   ],
   "source": [
    "# Делаем y_pred по среднему значению\n",
    "y_pred = np.mean(y)\n",
    "\n",
    "# Вычисляем MSE\n",
    "mse_error(y, y_pred)\n",
    "print(f'Наивный прогноз (y_pred = np.mean(y): {y_pred})')\n",
    "print(f'MSE: {mse_error(y, y_pred)}')"
   ]
  },
  {
   "cell_type": "markdown",
   "metadata": {
    "id": "BbybL2ola_ZM"
   },
   "source": [
    "**Создайте функцию *lin_pred*, которая может по матрице предикторов *X* и вектору весов линейной модели *w* получить вектор прогнозов** (0.5 балла)"
   ]
  },
  {
   "cell_type": "code",
   "execution_count": 466,
   "metadata": {
    "id": "1Cyz-Luaa_ZO"
   },
   "outputs": [],
   "source": [
    "def lin_pred(X, w):\n",
    "    '''\n",
    "    Рассчитывает вектор прогнозов по матрице предикторов (X) и вектору весов (w) линейной модели.\n",
    "    \n",
    "    Аргументы:\n",
    "                X (ndarray): матрица предикторов.\n",
    "                w (ndarray): вектор весов.\n",
    "    Возвращает:\n",
    "                ndarray: вектор прогнозов.\n",
    "    '''\n",
    "    return X @ w  # умножаем матрицу на вектор весов"
   ]
  },
  {
   "cell_type": "markdown",
   "metadata": {
    "id": "BU4adBrya_Zm"
   },
   "source": [
    "**Создайте функцию *stoch_grad_step* для реализации шага стохастического градиентного спуска. (1.5 балла) \n",
    "Функция должна принимать на вход следующие аргументы:**\n",
    "* матрицу *X*\n",
    "* вектора *y* и *w*\n",
    "* число *train_ind* - индекс объекта обучающей выборки (строки матрицы *X*), по которому считается изменение весов\n",
    "* число *$\\eta$* (eta) - шаг градиентного спуска\n",
    "\n",
    "Результатом будет вектор обновленных весов"
   ]
  },
  {
   "cell_type": "markdown",
   "metadata": {
    "id": "dyLY-P02DUK5"
   },
   "source": [
    "Шаг для стохастического градиентного спуска выглядит следующим образом:"
   ]
  },
  {
   "cell_type": "markdown",
   "metadata": {
    "id": "ORsAyIKNDUK5"
   },
   "source": [
    "$$\\Large w_j \\leftarrow w_j - \\frac{2\\eta}{\\ell} \\sum_{i=1}^\\ell{{x_{ij}((w_0 + w_1x_{i1} + w_2x_{i2} +  w_3x_{i3}) - y_i)}}$$"
   ]
  },
  {
   "cell_type": "markdown",
   "metadata": {
    "id": "CQl2FrpuDUK6"
   },
   "source": [
    "Для того, чтобы написать функцию, нужно сделать следующее:\n",
    "    \n",
    "*  посчитать направление изменения: умножить объект обучающей выборки на 2 и на разницу между предсказанным значением и реальным, а потом поделить на количество элементов в выборке.\n",
    "* вернуть разницу между вектором весов и направлением изменения, умноженным на шаг градиентного спуска"
   ]
  },
  {
   "cell_type": "code",
   "execution_count": 467,
   "metadata": {},
   "outputs": [],
   "source": [
    "def stoch_grad_step(X, y, w, train_ind, eta):\n",
    "    '''\n",
    "    Выполняет один шаг стохастического градиентного спуска.\n",
    "\n",
    "    Аргументы:\n",
    "                X (ndarray): массив предикторов размерностью (M, N).\n",
    "                y (ndarray): массив целевой переменной размерностью M.\n",
    "                w (ndarray): вектор весов размерностью N.\n",
    "                train_ind (int): индекс объекта обучающей выборки, по которому считается изменение весов.\n",
    "                eta (float): шаг градиентного спуска.\n",
    "    Возвращает:\n",
    "                ndarray: вектор обновленных весов размерностью N.\n",
    "    '''\n",
    "    # Находим предсказания\n",
    "    y_pred = lin_pred(X[train_ind], w)    \n",
    "    # Ищем направление изменения (градиент)\n",
    "    grad = 2 * X[train_ind] * (y_pred - y[train_ind]) / len(y)\n",
    "    # Возвращаем обновляем веса, используя шаг градиентного спуска\n",
    "    return w - grad * eta"
   ]
  },
  {
   "cell_type": "markdown",
   "metadata": {
    "id": "pXwIFd0Ma_Zx"
   },
   "source": [
    "**Создайте функцию *stochastic_gradient_descent*, для реализации стохастического градиентного спуска (2.5 балла)**\n",
    "\n",
    "**Функция принимает на вход следующие аргументы:**\n",
    "- Матрицу признаков X\n",
    "- Целевую переменнную\n",
    "- Изначальную точку (веса модели)\n",
    "- Параметр, определяющий темп обучения\n",
    "- Максимальное число итераций\n",
    "- Евклидово расстояние между векторами весов на соседних итерациях градиентного спуска,при котором алгоритм прекращает работу \n",
    "\n",
    "**На каждой итерации в вектор (список) должно записываться текущее значение среднеквадратичной ошибки. Функция должна возвращать вектор весов $w$, а также вектор (список) ошибок.**"
   ]
  },
  {
   "cell_type": "markdown",
   "metadata": {
    "id": "ZVeoNF1JDUK7"
   },
   "source": [
    "Алгоритм сследующий:\n",
    "    \n",
    "* Инициализируйте расстояние между векторами весов на соседних итерациях большим числом (можно бесконечностью)\n",
    "* Создайте пустой список для фиксации ошибок\n",
    "* Создайте счетчик итераций\n",
    "* Реализуйте оновной цикл обучения пока расстояние между векторами весов больше того, при котором надо прекратить работу (когда расстояния станут слишком маленькими - значит, мы застряли в одном месте) и количество итераций меньше максимально разрешенного: сгенерируйте случайный индекс, запишите текущую ошибку в вектор ошибок, запишите в переменную текущий шаг стохастического спуска с использованием функции, написанной ранее. Далее рассчитайте текущее расстояние между векторами весов и прибавьте к счетчику итераций 1.\n",
    "* Верните вектор весов и вектор ошибок"
   ]
  },
  {
   "cell_type": "code",
   "execution_count": 469,
   "metadata": {},
   "outputs": [],
   "source": [
    "def stochastic_gradient_descent(X, y, w, eta, max_iter, tol):\n",
    "    '''\n",
    "    Функция реализации стохастического градиентного спуска.\n",
    "    Аргументы:\n",
    "                X (ndarray): матрица признаков размерностью (M, N).\n",
    "                y (ndarray): вектор целевой переменной размерностью M.\n",
    "                w (ndarray): вектор весов размерностью N.\n",
    "                eta (float): шаг градиентного спуска.\n",
    "                max_iter (int): максимальное число итераций.\n",
    "                tol (float): критерий останова (мин. евкл. расстояние между векторами весов)\n",
    "    Возвращает:\n",
    "                ndarray, list: вектор весов размерностью N и список ошибок.\n",
    "    '''\n",
    "    dist = np.inf  # расстояние между векторами весов на соседних итерациях\n",
    "    mse_list = []  # список ошибок\n",
    "    i = 0          # счетчик итераций\n",
    "\n",
    "    # Основной цикл обучения\n",
    "    while dist > tol and i < max_iter:  # итерируем, пока не застряли\n",
    "        y_pred = lin_pred(X, w)  # находим предикты\n",
    "        mse = mse_error(y, y_pred)  # ищем ошибку MSE\n",
    "        mse_list.append(mse)  # сохраняем в список ошибок\n",
    "        \n",
    "        train_ind = np.random.randint(len(y))  # берём случайный индекс\n",
    "        w_i = stoch_grad_step(X, y, w, train_ind, eta)  # считаем текущий шаг стох. спуска\n",
    "        dist = np.linalg.norm(w_i - w)  # находим текущее расстояние между весами\n",
    "        w = w_i  # обновляем веса\n",
    "        \n",
    "        i += 1  # увеличиваем счётчик итераций\n",
    "        \n",
    "    return w, mse_list"
   ]
  },
  {
   "cell_type": "markdown",
   "metadata": {
    "id": "0OqHO1Rta_Z7"
   },
   "source": [
    " **Запустите $10^5$ итераций стохастического градиентного спуска. Укажите вектор начальных весов, состоящий из нулей. Можете поэкспериментировать с параметром, отвечающим за темп обучения.**"
   ]
  },
  {
   "cell_type": "markdown",
   "metadata": {
    "id": "N6fHHT6vDUK8"
   },
   "source": [
    "**Постройте график зависимости ошибки от номера итерации**"
   ]
  },
  {
   "cell_type": "code",
   "execution_count": 490,
   "metadata": {
    "id": "zsSfHDzLDUK9"
   },
   "outputs": [
    {
     "data": {
      "text/plain": [
       "(array([9.1690538 , 2.57982433, 1.76946081, 0.40822819]), 29.138219623937193)"
      ]
     },
     "execution_count": 490,
     "metadata": {},
     "output_type": "execute_result"
    }
   ],
   "source": [
    "# Задаём гиперпараметры\n",
    "w = np.zeros(X.shape[1])  # нулевые стартовые веса\n",
    "eta = 0.01                # темп обучения (learning rate)\n",
    "max_iter = 10**5          # максимальное число итераций\n",
    "tol = 1e-6                # критерий останова (мин. расстояние между векторами весов)\n",
    "\n",
    "# Запускаем стох. градиентный спуск\n",
    "w_, mse_list = stochastic_gradient_descent(X, y, w, eta, max_iter, tol)\n",
    "\n",
    "w_, mse_list[-1]"
   ]
  },
  {
   "cell_type": "code",
   "execution_count": 491,
   "metadata": {},
   "outputs": [
    {
     "data": {
      "image/png": "[encoded data removed]",
      "text/plain": [
       "<Figure size 1000x600 with 1 Axes>"
      ]
     },
     "metadata": {},
     "output_type": "display_data"
    }
   ],
   "source": [
    "# График зависимости\n",
    "plt.figure(figsize=(10, 6))\n",
    "plt.plot(range(len(mse_list)), mse_list, label='MSE')\n",
    "plt.title('Зависимость ошибки MSE от итераций SGD')\n",
    "plt.xlabel('Iteration')\n",
    "plt.ylabel('MSE')\n",
    "\n",
    "plt.grid()\n",
    "plt.legend()\n",
    "plt.show()"
   ]
  },
  {
   "cell_type": "code",
   "execution_count": 492,
   "metadata": {},
   "outputs": [
    {
     "name": "stdout",
     "output_type": "stream",
     "text": [
      "Experiment #1 | eta = 0.01 :\n",
      "weights: [10.7591784   3.08179528  2.10748052  0.36887026]\n",
      "MSE: 14.592526751680671\n",
      "\n",
      "Experiment #2 | eta = 0.05 :\n",
      "weights: [13.84403504  3.90011173  2.73413572  0.05415468]\n",
      "MSE: 2.822388811569393\n",
      "\n",
      "Experiment #3 | eta = 0.1 :\n",
      "weights: [ 1.40196429e+01  3.87718993e+00  2.86222817e+00 -5.24981546e-03]\n",
      "MSE: 2.7915790414076067\n",
      "\n",
      "Experiment #4 | eta = 0.5 :\n",
      "weights: [14.15768029  3.9085784   2.8999624  -0.14656736]\n",
      "MSE: 2.8200853130764587\n",
      "\n"
     ]
    }
   ],
   "source": [
    "# Эксперименты с темпом обучения\n",
    "eta_list = [0.01, 0.05, 0.1, 0.5]  # набор экспериментальных значений\n",
    "mse_experiments = []  # спискок для хранения результатов экспериментов\n",
    "    \n",
    "for exp_i, eta in enumerate(eta_list):\n",
    "    w = np.zeros(X.shape[1])\n",
    "    w_, mse_list = stochastic_gradient_descent(X, y, w, eta, max_iter, tol)\n",
    "    mse_experiments.append(mse_list)\n",
    "    print(f'Experiment #{exp_i + 1} | eta = {eta} :')\n",
    "    print(f'weights: {w_}')\n",
    "    print(f'MSE: {mse_list[-1]}')\n",
    "    print()"
   ]
  },
  {
   "cell_type": "code",
   "execution_count": 493,
   "metadata": {},
   "outputs": [
    {
     "data": {
      "image/png": "[encoded data removed]",
      "text/plain": [
       "<Figure size 1200x800 with 4 Axes>"
      ]
     },
     "metadata": {},
     "output_type": "display_data"
    }
   ],
   "source": [
    "# Визуализация экспериментов\n",
    "fig, axx = plt.subplots(2, 2, figsize=(12, 8))  # 2 строки, 2 столбца\n",
    "fig.suptitle('Графики сходимости SGD с разным темпом обучения', fontsize=16)\n",
    "\n",
    "for exp_i, eta in enumerate(eta_list):\n",
    "    axx[exp_i // 2, exp_i % 2].plot(list(range(len(mse_experiments[exp_i]))), mse_experiments[exp_i])\n",
    "    axx[exp_i // 2, exp_i % 2].set_title(f'Темп обучения: {eta}')\n",
    "\n",
    "plt.tight_layout(rect=[0, 0, 1, 0.96])\n",
    "plt.show()"
   ]
  },
  {
   "cell_type": "markdown",
   "metadata": {
    "id": "O-MVOcJ6a_aY"
   },
   "source": [
    "**Выведите вектор весов, к которому сошелся метод.**"
   ]
  },
  {
   "cell_type": "code",
   "execution_count": 494,
   "metadata": {
    "id": "MPjVkXe4DUK9"
   },
   "outputs": [
    {
     "name": "stdout",
     "output_type": "stream",
     "text": [
      "Вектор весов:\n",
      "[14.15768029  3.9085784   2.8999624  -0.14656736]\n"
     ]
    }
   ],
   "source": [
    "print('Вектор весов:')\n",
    "print(w_)"
   ]
  },
  {
   "cell_type": "markdown",
   "metadata": {
    "id": "qabzMc3Qa_a5"
   },
   "source": [
    "**Выведите среднеквадратичную ошибку на последней итерации.**"
   ]
  },
  {
   "cell_type": "code",
   "execution_count": 495,
   "metadata": {
    "id": "7tPWleMIa_a7"
   },
   "outputs": [
    {
     "name": "stdout",
     "output_type": "stream",
     "text": [
      "MSE на последней итерации:\n",
      "2.8200853130764587\n"
     ]
    }
   ],
   "source": [
    "# MSE на последней итерации\n",
    "print('MSE на последней итерации:')\n",
    "print(mse_list[-1])"
   ]
  },
  {
   "cell_type": "code",
   "execution_count": null,
   "metadata": {},
   "outputs": [],
   "source": []
  },
  {
   "cell_type": "markdown",
   "metadata": {},
   "source": [
    "## Оценка качества моделей"
   ]
  },
  {
   "cell_type": "markdown",
   "metadata": {},
   "source": [
    "**Оценим качество обеих полученных моделей с помощью метрик MSE и MAE.**"
   ]
  },
  {
   "cell_type": "code",
   "execution_count": 543,
   "metadata": {},
   "outputs": [],
   "source": [
    "# Определим функцию нахождения метрики MAE (Mean Average Error)\n",
    "def mae_error(y_true, y_pred):\n",
    "    '''\n",
    "    Вычисляет ошибку MAE.\n",
    "    \n",
    "    Аргументы:\n",
    "                y_true (ndarray):  реальные значения.\n",
    "                y_pred (ndarray):  предсказываемые значения.\n",
    "    Возвращает:\n",
    "                ndarray: значение средней ошибки.\n",
    "    '''\n",
    "    return np.mean(np.abs(y_true - y_pred))  # ищем среднее"
   ]
  },
  {
   "cell_type": "code",
   "execution_count": 599,
   "metadata": {},
   "outputs": [
    {
     "name": "stdout",
     "output_type": "stream",
     "text": [
      "# Coordinate Descent #\n",
      "MSE: 2.78; MAE: 1.25\n",
      "\n",
      "# Stochastic Gradient Descent #\n",
      "MSE: 2.79; MAE: 1.25\n"
     ]
    }
   ],
   "source": [
    "# Проведём замеры метрик у обоих алгоритмов\n",
    "\n",
    "# --Координатный спуск\n",
    "X = df.drop(['sales'], axis=1).values\n",
    "X = np.hstack([np.ones(X.shape[0]).reshape(-1, 1), X])\n",
    "X = X / np.sqrt(np.sum(np.square(X), axis=0))\n",
    "\n",
    "w_ = coordinate_descent(X, y, n_iter=1000)\n",
    "y_pred = X @ w_\n",
    "mse_coord = mse_error(y, y_pred)\n",
    "mae_coord = mae_error(y, y_pred)\n",
    "print(f'# Coordinate Descent #')\n",
    "print(f'MSE: {mse_coord:.2f}; MAE: {mae_coord:.2f}')\n",
    "\n",
    "print()\n",
    "\n",
    "# --Стохастический градиентный спуск\n",
    "X = df.drop(['sales'], axis=1).values\n",
    "X = (X - X.mean(axis=0)) / X.std(axis=0)\n",
    "X = np.hstack([np.ones(X.shape[0]).reshape(-1, 1), X])\n",
    "\n",
    "w_, _ = stochastic_gradient_descent(X, y, w, 0.5, max_iter=100_000, tol=1e-6)\n",
    "y_pred = X @ w_\n",
    "mse_stoch = mse_error(y, y_pred)\n",
    "mae_stoch = mae_error(y, y_pred)\n",
    "print(f'# Stochastic Gradient Descent #')\n",
    "print(f'MSE: {mse_stoch:.2f}; MAE: {mae_stoch:.2f}')"
   ]
  },
  {
   "cell_type": "markdown",
   "metadata": {},
   "source": [
    "## Выводы\n",
    "\n",
    "С помощью реализованных алгоритмов оптимизации удалось достичь существенного улучшения качества предсказаний (`MSE: ~2.8`) по-сравнению с наивным прогнозом (`MSE: ~27.0`).\n",
    "\n",
    "Обе модели продемонстрировали свою эффективность для решения задачи регрессии.\n",
    "\n",
    ">\n",
    "\n",
    "#### Результаты оценки\n",
    "Какая модель лучше минимизировала ошибку?\n",
    "\n",
    "| Метрика     | Координатный спуск | Стохастический градиентный спуск |\n",
    "|-------------|--------------------|----------------------------------|\n",
    "| **MSE**     | 2.78               | 2.79                            |\n",
    "| **MAE**     | 1.25               | 1.25                            |\n",
    "\n",
    "\n",
    "При оптимальных настроках гиперпараметров методы способны показывать сравнимую эффективность.\n",
    "\n",
    "- **Координатный спуск** эффективен для работы с сильно выпуклыми функциями, такими как Lasso-регрессия. Отсутствие необходимости в настройке темпа обучения (learning rate) делает его простым в реализации.\n",
    "\n",
    "- **Стохастический градиентный спуск** обладает способностью лучше обрабатывать данные в ситуациях с высокой вариативностью или большим количеством наблюдений. Однако для его работы требуется тщательная настройка гиперпараметров (например, темпа обучения).\n",
    "\n",
    ">\n",
    "\n",
    "#### Выбор\n",
    "Выбор метода зависит от особенностей данных:\n",
    "- Если данные сильно выпуклы и просты, координатный спуск предпочтительнее.\n",
    "- Если данные сложные и содержат нелинейные зависимости, стоит использовать SGD.\n",
    "\n",
    ">\n",
    "\n",
    "#### Итог\n",
    "Оба метода имеют право на существование, но их выбор зависит от специфики задачи и структуры данных."
   ]
  },
  {
   "cell_type": "code",
   "execution_count": null,
   "metadata": {},
   "outputs": [],
   "source": []
  }
 ],
 "metadata": {
  "colab": {
   "collapsed_sections": [],
   "name": "Практика_Оптимизация.ipynb",
   "provenance": [],
   "toc_visible": true
  },
  "kernelspec": {
   "display_name": "Python 3 (ipykernel)",
   "language": "python",
   "name": "python3"
  },
  "language_info": {
   "codemirror_mode": {
    "name": "ipython",
    "version": 3
   },
   "file_extension": ".py",
   "mimetype": "text/x-python",
   "name": "python",
   "nbconvert_exporter": "python",
   "pygments_lexer": "ipython3",
   "version": "3.9.18"
  },
  "toc": {
   "base_numbering": 1,
   "nav_menu": {},
   "number_sections": false,
   "sideBar": true,
   "skip_h1_title": false,
   "title_cell": "Table of Contents",
   "title_sidebar": "Contents",
   "toc_cell": false,
   "toc_position": {},
   "toc_section_display": true,
   "toc_window_display": true
  },
  "varInspector": {
   "cols": {
    "lenName": 16,
    "lenType": 16,
    "lenVar": 40
   },
   "kernels_config": {
    "python": {
     "delete_cmd_postfix": "",
     "delete_cmd_prefix": "del ",
     "library": "var_list.py",
     "varRefreshCmd": "print(var_dic_list())"
    },
    "r": {
     "delete_cmd_postfix": ") ",
     "delete_cmd_prefix": "rm(",
     "library": "var_list.r",
     "varRefreshCmd": "cat(var_dic_list()) "
    }
   },
   "types_to_exclude": [
    "module",
    "function",
    "builtin_function_or_method",
    "instance",
    "_Feature"
   ],
   "window_display": false
  }
 },
 "nbformat": 4,
 "nbformat_minor": 1
}
